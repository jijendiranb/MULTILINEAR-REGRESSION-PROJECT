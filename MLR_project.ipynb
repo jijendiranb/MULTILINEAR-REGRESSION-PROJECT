{
  "nbformat": 4,
  "nbformat_minor": 0,
  "metadata": {
    "colab": {
      "name": "MLR project",
      "provenance": [],
      "collapsed_sections": [],
      "authorship_tag": "ABX9TyONfdWR1Y+g/m0x9Rlc3XXN",
      "include_colab_link": true
    },
    "kernelspec": {
      "name": "python3",
      "display_name": "Python 3"
    },
    "language_info": {
      "name": "python"
    }
  },
  "cells": [
    {
      "cell_type": "markdown",
      "metadata": {
        "id": "view-in-github",
        "colab_type": "text"
      },
      "source": [
        "<a href=\"https://colab.research.google.com/github/jijendiranb/MULTILINEAR-REGRESSION-PROJECT/blob/main/MLR_project.ipynb\" target=\"_parent\"><img src=\"https://colab.research.google.com/assets/colab-badge.svg\" alt=\"Open In Colab\"/></a>"
      ]
    },
    {
      "cell_type": "code",
      "metadata": {
        "id": "0pGbbU59VxdB"
      },
      "source": [
        "import pandas as pd\n",
        "import numpy as np\n",
        "from sklearn.model_selection import train_test_split\n",
        "import matplotlib.pyplot as plt\n",
        "from sklearn.linear_model import LinearRegression"
      ],
      "execution_count": null,
      "outputs": []
    },
    {
      "cell_type": "code",
      "metadata": {
        "colab": {
          "base_uri": "https://localhost:8080/",
          "height": 205
        },
        "id": "45TzPxp1pYDW",
        "outputId": "cba0fc8a-f990-473d-8d40-6258272e46aa"
      },
      "source": [
        "#Importing and reading file using pandas\n",
        "df=pd.read_csv('/content/lrdata - lrdata.csv')\n",
        "df.head()"
      ],
      "execution_count": null,
      "outputs": [
        {
          "output_type": "execute_result",
          "data": {
            "text/html": [
              "<div>\n",
              "<style scoped>\n",
              "    .dataframe tbody tr th:only-of-type {\n",
              "        vertical-align: middle;\n",
              "    }\n",
              "\n",
              "    .dataframe tbody tr th {\n",
              "        vertical-align: top;\n",
              "    }\n",
              "\n",
              "    .dataframe thead th {\n",
              "        text-align: right;\n",
              "    }\n",
              "</style>\n",
              "<table border=\"1\" class=\"dataframe\">\n",
              "  <thead>\n",
              "    <tr style=\"text-align: right;\">\n",
              "      <th></th>\n",
              "      <th>cases</th>\n",
              "      <th>increasingrate</th>\n",
              "      <th>decreasingrate</th>\n",
              "      <th>time</th>\n",
              "    </tr>\n",
              "  </thead>\n",
              "  <tbody>\n",
              "    <tr>\n",
              "      <th>0</th>\n",
              "      <td>18</td>\n",
              "      <td>15.960</td>\n",
              "      <td>53.13</td>\n",
              "      <td>1121.8739</td>\n",
              "    </tr>\n",
              "    <tr>\n",
              "      <th>1</th>\n",
              "      <td>21</td>\n",
              "      <td>16.815</td>\n",
              "      <td>52.58</td>\n",
              "      <td>1131.5066</td>\n",
              "    </tr>\n",
              "    <tr>\n",
              "      <th>2</th>\n",
              "      <td>38</td>\n",
              "      <td>16.815</td>\n",
              "      <td>50.38</td>\n",
              "      <td>1135.9407</td>\n",
              "    </tr>\n",
              "    <tr>\n",
              "      <th>3</th>\n",
              "      <td>26</td>\n",
              "      <td>17.195</td>\n",
              "      <td>49.06</td>\n",
              "      <td>1136.3994</td>\n",
              "    </tr>\n",
              "    <tr>\n",
              "      <th>4</th>\n",
              "      <td>18</td>\n",
              "      <td>17.290</td>\n",
              "      <td>48.07</td>\n",
              "      <td>1137.0110</td>\n",
              "    </tr>\n",
              "  </tbody>\n",
              "</table>\n",
              "</div>"
            ],
            "text/plain": [
              "   cases  increasingrate  decreasingrate       time\n",
              "0     18          15.960           53.13  1121.8739\n",
              "1     21          16.815           52.58  1131.5066\n",
              "2     38          16.815           50.38  1135.9407\n",
              "3     26          17.195           49.06  1136.3994\n",
              "4     18          17.290           48.07  1137.0110"
            ]
          },
          "metadata": {
            "tags": []
          },
          "execution_count": 10
        }
      ]
    },
    {
      "cell_type": "code",
      "metadata": {
        "id": "zUZWqNwZrqkc"
      },
      "source": [
        "#Using multi linear regression as the values are continuous where x are independent\n",
        "#values and y : dependent values\n",
        "y= df['time']\n",
        "x= df[['cases','increasingrate','decreasingrate']]"
      ],
      "execution_count": null,
      "outputs": []
    },
    {
      "cell_type": "code",
      "metadata": {
        "id": "BuqTmn5WsDJ3"
      },
      "source": [
        "#MLR\n",
        "#Function named CasesReg for using linear regression model and training the model\n",
        "#with given values\n",
        "def casesreg(x,y):\n",
        "  reg=LinearRegression()\n",
        "  reg.fit(x,y)\n",
        "  return reg"
      ],
      "execution_count": null,
      "outputs": []
    },
    {
      "cell_type": "code",
      "metadata": {
        "id": "da34aat3sulu"
      },
      "source": [
        "#train_test_split is a function in Sklearn model selection for splitting data \n",
        "#arrays into two subsets: for training data and for testing data. \n",
        "#With this function, you don't need to divide the dataset manually.\n",
        "x_train,x_test,y_train,y_test=train_test_split(x,y)"
      ],
      "execution_count": null,
      "outputs": []
    },
    {
      "cell_type": "code",
      "metadata": {
        "id": "kWOwvmLDtR1T"
      },
      "source": [
        "#Passing training data to my Linear regression model\n",
        "reg=casesreg(x_train,y_train)"
      ],
      "execution_count": null,
      "outputs": []
    },
    {
      "cell_type": "code",
      "metadata": {
        "colab": {
          "base_uri": "https://localhost:8080/"
        },
        "id": "TPd0QLj0ui9o",
        "outputId": "9459e15f-4692-4c18-ee1e-7ae25c8ea6f7"
      },
      "source": [
        "#Using predict to get predicted values of y\n",
        "y_pred=reg.predict(x_test)\n",
        "y_pred"
      ],
      "execution_count": null,
      "outputs": [
        {
          "output_type": "execute_result",
          "data": {
            "text/plain": [
              "array([  9791.62797392,  22859.92555364,  18358.54797445,  15701.61742697,\n",
              "         7013.60127261,  16292.37272916,  -6281.77292454,   3941.2419709 ,\n",
              "        38883.03770073,  15325.56610556,  14113.51552726,  14387.49390341,\n",
              "        30179.19266352,   3634.19717345,  15299.90737563,   9965.60623108,\n",
              "        18253.0837213 ,  13717.36487913,  10881.96844079,  11066.09999282,\n",
              "         8500.06167418,   5728.87250436,  19889.16359835,  -1680.68538216,\n",
              "        24782.01855269,  19752.31703874,   1758.00058979,  15351.35864939,\n",
              "         4702.75258652,  -8564.52256009,  -9643.77437902,  28133.12947522,\n",
              "        11070.62043535,  21564.17498942,  13455.70634799,  19398.9309405 ,\n",
              "        37841.10132414,   3092.45706787,  12807.96827881,   1163.87160884,\n",
              "        12254.97519887,  52148.9965569 ,  -1592.42257204,  22083.34304548,\n",
              "        29503.41805665,   3112.83920209,   7611.18592085,  21274.78644726,\n",
              "         -486.61437779, -10200.46387746,   4013.27165301,  14400.04228115,\n",
              "         4197.82927016,  -6374.76901842,  17657.08846907,  23208.37458792,\n",
              "         9195.87524296,  21529.13619669,  -2569.54875923,  14399.05759527,\n",
              "        22701.0488404 ,   9213.46049857,   -683.81928232,  14465.15224701,\n",
              "        22205.73621499,   3611.59895536,   8400.64934421,  32197.22015127,\n",
              "        11674.94370542,  31194.34486395,   4838.08739004,  12273.41377589,\n",
              "        19364.7193006 ,  13282.89876999,   4994.82146851,  10504.53882319,\n",
              "        25916.42316366,  -3833.27025056,  13221.6956431 ,  12156.97117047,\n",
              "        -8719.34359385,  19103.37184096,   3550.52999638,  11564.34331074,\n",
              "         7664.94854754,  18051.48554787,  -2571.29813772,  25767.29375871,\n",
              "        11931.54373496,  25641.20310867,  14521.5323993 ,  10415.11561476,\n",
              "        25391.4497003 ,  -5330.1063897 ,   9088.06109203,  30154.0219087 ,\n",
              "         1153.9859418 ,  23792.92652391,  25010.90375091,  16203.34487243,\n",
              "        16895.93585147,   3514.4564338 ,   -646.88211749,  10762.22770114,\n",
              "        16410.27336611,  37486.89779898,    997.79411323,  11974.29555456,\n",
              "         5358.92038663,  12917.64644783,  25929.43824679,  16439.2818594 ,\n",
              "         9808.73379387,  21210.21628187,  23215.72191447,  13816.98901696,\n",
              "        27678.96373968,   8654.18886192,  -3411.29250836,  21247.84049938,\n",
              "         7399.80833831,   -781.08897752,  22400.99720831,  12713.45201852,\n",
              "        32113.26352642,  15963.86339312,  23138.61855105,   6042.27175704,\n",
              "        -6504.75728862,   5617.45159711,  20758.50389861,  13258.98941856,\n",
              "        11513.02585089,  23522.76916135,  11276.72387162,    679.66261016,\n",
              "        20014.75753761,  13621.61967029,   1874.86226605,  12680.86467888,\n",
              "        27661.85791973,   -909.73069834,  19648.8206122 ,  30790.10346639,\n",
              "         9088.06109203,  12867.83864863,  26030.37541713,  -2490.21812683,\n",
              "        21368.86845699,  12417.4804884 ,  23109.70932142,   5995.0881237 ,\n",
              "        36756.83572177,    -71.27844319,  17322.22922263,  24801.56499464,\n",
              "        -1574.51750924,   5415.19253958,  22324.02101853,  15387.49257678,\n",
              "        27014.40929833,   7638.68929833,  15411.46873705,  17571.06265853,\n",
              "        10604.47403253,  22314.73377536,   7326.20582728,  35108.97743441,\n",
              "        23584.82980048,    307.59612165,   3291.59279934,  13161.82527327,\n",
              "        18621.4851841 ,    466.30866158,  28351.59584619,  12353.6880999 ,\n",
              "          423.5441117 ,   7708.27871245,   9006.44128067,  12299.07250581,\n",
              "        -9310.33651845,  23345.70912263,  20534.90593095,  16682.49327408,\n",
              "        20214.48524892,  22748.73772396,  25725.01318934,  21778.93304875,\n",
              "        18223.62370233,    767.89786431,  -2955.39711889,   1342.02678221,\n",
              "        19108.6417964 ,  30796.2633889 ,  -6414.85603191,  13955.88294228,\n",
              "        -3165.30149019,  17980.15948553,   -196.66022059,   9773.14666122,\n",
              "        31361.77448717,  19863.50486842,  11810.33432892,  31289.83517526,\n",
              "        11359.67853547,  26948.04211992,   8227.1505227 ,  26164.32773364,\n",
              "         7775.27641555,   2028.86837016,  29665.40691085,  17349.43006805,\n",
              "        17896.92201416,  15737.98897677,  23287.69368121,  15419.64811529,\n",
              "        25693.27008142,   -664.48464822,  10124.7120273 ,   4672.19324205,\n",
              "         4227.0944024 ,  16309.95798477,  -6234.85691901,  27470.76320776,\n",
              "        18247.59132315,  24002.59362681,  21307.71086921,   8189.8373767 ,\n",
              "        13458.99784197,   7508.68935989,  11676.53555086,   1581.50826152,\n",
              "         6083.29546786,  12773.75663891,  18668.69882283,  14656.02451628,\n",
              "        21597.55947649,  12338.74827987,  37480.00808812,  11778.16606013,\n",
              "        37435.27472141,  -1107.89167075,   8185.16794055,  19626.06676023,\n",
              "          517.87647412,  13231.58131014,  25775.96984774,   8232.60192658,\n",
              "        14787.11504452,   9787.45105771,   -184.91962514,  -9854.45475715,\n",
              "        18441.87407461,  26462.91489018,  10283.86945264,  14056.17650365,\n",
              "        36657.30073232,  -8426.81396736,   1363.59932016,  17846.33888751,\n",
              "        20135.95421338,   5080.35056826,   8191.83101787,   1900.52099598,\n",
              "         6996.24509997,  46729.1240314 ,   4069.49253084,  -3177.58224012,\n",
              "        -9610.9891243 ,  27583.40033329,  -1327.63043398,  31391.06179338,\n",
              "         2138.46644982,  22951.78728866,  15517.0819838 ,  -1295.30898075,\n",
              "        20616.70509534,  -1672.13247218,  23547.0951342 ,   9929.31477064,\n",
              "        18628.56697825,  23480.37814321,   3303.69419624,   7693.8055978 ,\n",
              "         9396.3306472 ,  29847.11057115,  15501.03030424,   9875.78158093,\n",
              "        13501.79275126,   6069.25015974,   4112.30017041,  -6458.41108896,\n",
              "         6915.23644275,   9710.98466301,   5982.40138721,   1745.11268031,\n",
              "        13787.53753743,  18418.7766963 ,  23366.84741002,   8346.04648039,\n",
              "        30176.39124006,  14993.0867623 ,  14896.81902811,  23338.98568051,\n",
              "        25486.25086352,  -3873.13237191,  11676.41237181,   4452.86536424,\n",
              "        10051.63239563,  14563.02700635,  12290.51959584,   3232.4567627 ,\n",
              "         -410.59705933,  14148.0124241 ,  27786.49263366,  35964.94323748,\n",
              "        18820.90336907,     86.19696275,   3083.90415789,   6486.94089098,\n",
              "        20996.51671153,   9366.15147474,  23996.49406911,   9702.43175303,\n",
              "        13768.68233899,   6303.13978101,   4589.94954626,   8181.58245395,\n",
              "        26942.81106333,  25050.65751891,   6936.37473014,  -9929.19021099,\n",
              "        11143.5641577 ,  -1226.80770701,  18238.67761172])"
            ]
          },
          "metadata": {
            "tags": []
          },
          "execution_count": 34
        }
      ]
    },
    {
      "cell_type": "code",
      "metadata": {
        "colab": {
          "base_uri": "https://localhost:8080/"
        },
        "id": "H6rV_ugRu4rC",
        "outputId": "7ef15653-6c03-4eb2-dfdd-dcb1bb10b228"
      },
      "source": [
        "#Calculating efficiency. It internally calculates y_pred again and gives the \n",
        "#efficiency\n",
        "reg.score(x_test,y_test)"
      ],
      "execution_count": null,
      "outputs": [
        {
          "output_type": "execute_result",
          "data": {
            "text/plain": [
              "0.8454648419481923"
            ]
          },
          "metadata": {
            "tags": []
          },
          "execution_count": 35
        }
      ]
    },
    {
      "cell_type": "code",
      "metadata": {
        "colab": {
          "base_uri": "https://localhost:8080/",
          "height": 279
        },
        "id": "Gei5jmuBvCWn",
        "outputId": "41c71b21-b936-4222-f71b-1b041750685e"
      },
      "source": [
        "#Plotting graph using matplotlib.\n",
        "plt.plot(x,reg.predict(x),'*')\n",
        "plt.legend(labels=['cases','increasingrate','decreasingrate'])\n",
        "plt.xlabel(\"Cases Rate\")\n",
        "plt.ylabel(\"Time\")\n",
        "plt.show()"
      ],
      "execution_count": null,
      "outputs": [
        {
          "output_type": "display_data",
          "data": {
            "image/png": "[encoded data removed]",
            "text/plain": [
              "<Figure size 432x288 with 1 Axes>"
            ]
          },
          "metadata": {
            "tags": [],
            "needs_background": "light"
          }
        }
      ]
    }
  ]
}